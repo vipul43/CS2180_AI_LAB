{
 "cells": [
  {
   "cell_type": "code",
   "execution_count": 38,
   "metadata": {},
   "outputs": [],
   "source": [
    "import numpy as np"
   ]
  },
  {
   "cell_type": "code",
   "execution_count": 63,
   "metadata": {},
   "outputs": [],
   "source": [
    "A = [1, 2, 3, 4, 6]\n",
    "probability_out_max = [0.1, 0.2, 0.3, 0.5, 0.7]\n",
    "probability_out_min = [0.01, 0.02, 0.03, 0.1, 0.3]\n",
    "probability_run_max = 0.95\n",
    "probability_run_min = 0.5"
   ]
  },
  {
   "cell_type": "code",
   "execution_count": 64,
   "metadata": {},
   "outputs": [],
   "source": [
    "def probability_out(state, action):\n",
    "    ind = A.index(action)\n",
    "    p = probability_out_max[ind] + (probability_out_min[ind]-probability_out_max[ind])*((state-1)/9)\n",
    "    return p\n",
    "\n",
    "def probability_run(state, action):\n",
    "    p = probability_run_min + (probability_run_max - probability_run_min)*((state-1)/9)\n",
    "    return p"
   ]
  },
  {
   "cell_type": "code",
   "execution_count": 65,
   "metadata": {},
   "outputs": [
    {
     "name": "stdout",
     "output_type": "stream",
     "text": [
      "233.10166705291445\n"
     ]
    },
    {
     "data": {
      "text/plain": [
       "array([[  1.05      ,   1.2045    ,   1.41333333, ...,   3.11666667,\n",
       "          3.54      ,   3.99      ],\n",
       "       [  1.785     ,   2.367285  ,   2.74081296, ...,   6.07907407,\n",
       "          6.93418519,   7.845     ],\n",
       "       [  2.2995    ,   3.41456805,   4.01916625, ...,   8.88486008,\n",
       "         10.17964691,  11.56175556],\n",
       "       ...,\n",
       "       [  0.        ,   0.        ,   0.        , ...,  97.44565581,\n",
       "        141.12865775, 233.05502437],\n",
       "       [  0.        ,   0.        ,   0.        , ...,   0.        ,\n",
       "        141.13699771, 233.07849704],\n",
       "       [  0.        ,   0.        ,   0.        , ...,   0.        ,\n",
       "          0.        , 233.10166705]])"
      ]
     },
     "execution_count": 65,
     "metadata": {},
     "output_type": "execute_result"
    }
   ],
   "source": [
    "v_star = np.zeros((300, 10))\n",
    "def bellmanPopulationVStar(state, balls_left):\n",
    "    if(state==0 or balls_left==0):\n",
    "        return 0\n",
    "    ma_choice = 0\n",
    "    if(v_star[balls_left-1][state-1]!=0):\n",
    "        return v_star[balls_left-1][state-1]\n",
    "    for i in range(len(A)):\n",
    "        action = A[i]\n",
    "        state_just_below_current_state = bellmanPopulationVStar(state, balls_left-1)\n",
    "        state_diagonal_and_below_current_state = bellmanPopulationVStar(state-1, balls_left-1)\n",
    "        ma_choice = max(ma_choice, \n",
    "                        ((1-probability_out(state, action))*((probability_run(state, action)*action) \n",
    "                            + state_just_below_current_state)\n",
    "                                 + (probability_out(state, action)*state_diagonal_and_below_current_state)))\n",
    "    v_star[balls_left-1][state-1] = ma_choice\n",
    "    return ma_choice\n",
    "\n",
    "print(bellmanPopulationVStar(10, 300))\n",
    "v_star"
   ]
  },
  {
   "cell_type": "code",
   "execution_count": 66,
   "metadata": {},
   "outputs": [
    {
     "name": "stdout",
     "output_type": "stream",
     "text": [
      "6\n"
     ]
    },
    {
     "data": {
      "text/plain": [
       "array([[3., 3., 4., ..., 6., 6., 6.],\n",
       "       [2., 3., 3., ..., 6., 6., 6.],\n",
       "       [3., 3., 4., ..., 6., 6., 6.],\n",
       "       ...,\n",
       "       [0., 0., 0., ..., 4., 6., 6.],\n",
       "       [0., 0., 0., ..., 0., 6., 6.],\n",
       "       [0., 0., 0., ..., 0., 0., 6.]])"
      ]
     },
     "execution_count": 66,
     "metadata": {},
     "output_type": "execute_result"
    }
   ],
   "source": [
    "pi_star = np.zeros((300, 10))\n",
    "def bellmanPopulationPiStar(state, balls_left):\n",
    "    if(state==0 or balls_left==0):\n",
    "        return 0\n",
    "    ma_choice = 0\n",
    "    if(pi_star[balls_left-1][state-1]!=0):\n",
    "        return pi_star[balls_left-1][state-1]\n",
    "    for i in range(len(A)):\n",
    "        action = A[i]\n",
    "        state_just_below_current_state = bellmanPopulationPiStar(state, balls_left-1)\n",
    "        state_diagonal_and_below_current_state = bellmanPopulationPiStar(state-1, balls_left-1)\n",
    "        cal = ((1-probability_out(state, action))*((probability_run(state, action)*action) \n",
    "                            + state_just_below_current_state)\n",
    "                                 + (probability_out(state, action)*state_diagonal_and_below_current_state))\n",
    "        if(cal>ma_choice):\n",
    "            ma_choice = cal\n",
    "            ma_action = action\n",
    "    pi_star[balls_left-1][state-1] = ma_action\n",
    "    return ma_action\n",
    "\n",
    "print(bellmanPopulationPiStar(10, 300))\n",
    "pi_star\n"
   ]
  },
  {
   "cell_type": "code",
   "execution_count": null,
   "metadata": {},
   "outputs": [],
   "source": []
  }
 ],
 "metadata": {
  "kernelspec": {
   "display_name": "Python 3",
   "language": "python",
   "name": "python3"
  },
  "language_info": {
   "codemirror_mode": {
    "name": "ipython",
    "version": 3
   },
   "file_extension": ".py",
   "mimetype": "text/x-python",
   "name": "python",
   "nbconvert_exporter": "python",
   "pygments_lexer": "ipython3",
   "version": "3.7.4"
  }
 },
 "nbformat": 4,
 "nbformat_minor": 2
}
