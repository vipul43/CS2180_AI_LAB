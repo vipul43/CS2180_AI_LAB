{
 "cells": [
  {
   "cell_type": "code",
   "execution_count": 9,
   "metadata": {},
   "outputs": [],
   "source": [
    "import numpy as np\n",
    "import matplotlib.pyplot as plt"
   ]
  },
  {
   "cell_type": "code",
   "execution_count": 10,
   "metadata": {},
   "outputs": [
    {
     "name": "stdout",
     "output_type": "stream",
     "text": [
      "0.4\n",
      "4.5 60\n",
      "30\n"
     ]
    },
    {
     "data": {
      "image/png": "[encoded data removed]",
      "text/plain": [
       "<Figure size 432x288 with 1 Axes>"
      ]
     },
     "metadata": {
      "needs_background": "light"
     },
     "output_type": "display_data"
    },
    {
     "data": {
      "image/png": "[encoded data removed]",
      "text/plain": [
       "<Figure size 432x288 with 1 Axes>"
      ]
     },
     "metadata": {
      "needs_background": "light"
     },
     "output_type": "display_data"
    }
   ],
   "source": [
    "def state_gen(p_kid):\n",
    "    coin=np.random.rand()\n",
    "    if(coin<p_kid):\n",
    "        state=-1\n",
    "    else:\n",
    "        state=+1\n",
    "    return state\n",
    "def observation_gen(state):\n",
    "    if(state==-1):\n",
    "        height=np.random.uniform(4, 5)\n",
    "        weight=np.random.uniform(40, 60)\n",
    "    else:\n",
    "        height=np.random.uniform(5, 6)\n",
    "        weight=np.random.uniform(60, 80)\n",
    "    return height, weight\n",
    "def n_observation_gen(state):\n",
    "    if(state==-1):\n",
    "        height=np.random.normal(4, 5)\n",
    "        weight=np.random.normal(40, 60)\n",
    "    else:\n",
    "        height=np.random.normal(5, 6)\n",
    "        weight=np.random.normal(60, 80)\n",
    "    return height, weight\n",
    "def plotter1(dataset, x_new):\n",
    "    for item in dataset:\n",
    "        if(item[1]==+1):\n",
    "            plt.scatter(item[0][0], item[0][1], color='red', marker='.')\n",
    "        else:\n",
    "            plt.scatter(item[0][0], item[0][1], color='blue', marker='.')\n",
    "    plt.scatter(float(x_new[0]), float(x_new[1]), color='black', marker='^')\n",
    "    plt.show()\n",
    "def plotter2(dataset, y, x_new):\n",
    "    for item in dataset:\n",
    "        if(item[1]==+1):\n",
    "            plt.scatter(item[0][0], item[0][1], color='red', marker='.')\n",
    "        else:\n",
    "            plt.scatter(item[0][0], item[0][1], color='blue', marker='.')\n",
    "    if(y==+1):\n",
    "        plt.scatter(float(x_new[0]), float(x_new[1]), color='red', marker='*')\n",
    "    else:\n",
    "        plt.scatter(float(x_new[0]), float(x_new[1]), color='blue', marker='*')\n",
    "    plt.show()\n",
    "    \n",
    "def knn(dataset, k, x_new):\n",
    "    distances=[]\n",
    "    for ele in dataset:\n",
    "        distance=dist(ele[0], x_new)\n",
    "        distances.append([distance, ele[1]])\n",
    "    distances.sort()\n",
    "    kid_label_count=0\n",
    "    adult_label_count=0\n",
    "    for label in distances[0:k]:\n",
    "        if(label[1]==-1):\n",
    "            kid_label_count+=1\n",
    "        else:\n",
    "            adult_label_count+=1\n",
    "    if(kid_label_count>adult_label_count):\n",
    "        y=-1\n",
    "    else:\n",
    "        y=+1\n",
    "    return y\n",
    "    \n",
    "def dist(p1, p2):\n",
    "    [p2[0], p2[1]]=[float(p2[0]), float(p2[1])]\n",
    "    p1=np.array(p1)\n",
    "    p2=np.array(p2)\n",
    "    return np.linalg.norm(p1-p2)\n",
    "    \n",
    "# taking inputs\n",
    "p_kid=float(input())\n",
    "x_new=list(map(float, input().split()))\n",
    "k=int(input())\n",
    "#creating dataset\n",
    "dataset=[]\n",
    "for i in range(100):\n",
    "    state=state_gen(p_kid)\n",
    "    height, weight=observation_gen(state)\n",
    "    dataset.append([[height, weight], state])\n",
    "#calling function\n",
    "plotter1(dataset, x_new)\n",
    "y=knn(dataset, k, x_new)\n",
    "plotter2(dataset, y, x_new)"
   ]
  },
  {
   "cell_type": "code",
   "execution_count": 11,
   "metadata": {},
   "outputs": [
    {
     "data": {
      "image/png": "[encoded data removed]",
      "text/plain": [
       "<Figure size 432x288 with 1 Axes>"
      ]
     },
     "metadata": {
      "needs_background": "light"
     },
     "output_type": "display_data"
    }
   ],
   "source": [
    "test_dataset=[]\n",
    "for i in range(100):\n",
    "    state=state_gen(p_kid)\n",
    "    height, weight=observation_gen(state)\n",
    "    test_dataset.append([[height, weight], state])\n",
    "loss_list=[]\n",
    "k_list=[]\n",
    "for k in range(10, 100):\n",
    "    loss=0\n",
    "    for point in test_dataset:\n",
    "        y=knn(dataset, k, point[0])\n",
    "        if(y!=point[1]):\n",
    "            loss+=1\n",
    "    loss_list.append(loss)\n",
    "    k_list.append(k)\n",
    "plt.plot(k_list, loss_list, color='magenta')\n",
    "plt.show()"
   ]
  },
  {
   "cell_type": "code",
   "execution_count": null,
   "metadata": {},
   "outputs": [],
   "source": []
  },
  {
   "cell_type": "code",
   "execution_count": null,
   "metadata": {},
   "outputs": [],
   "source": []
  }
 ],
 "metadata": {
  "kernelspec": {
   "display_name": "Python 3",
   "language": "python",
   "name": "python3"
  },
  "language_info": {
   "codemirror_mode": {
    "name": "ipython",
    "version": 3
   },
   "file_extension": ".py",
   "mimetype": "text/x-python",
   "name": "python",
   "nbconvert_exporter": "python",
   "pygments_lexer": "ipython3",
   "version": "3.7.4"
  }
 },
 "nbformat": 4,
 "nbformat_minor": 2
}
