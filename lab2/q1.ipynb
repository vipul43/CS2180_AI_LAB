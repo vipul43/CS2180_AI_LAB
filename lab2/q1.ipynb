{
 "cells": [
  {
   "cell_type": "code",
   "execution_count": 7,
   "metadata": {},
   "outputs": [
    {
     "data": {
      "image/png": "[encoded data removed]",
      "text/plain": [
       "<Figure size 432x288 with 1 Axes>"
      ]
     },
     "metadata": {
      "needs_background": "light"
     },
     "output_type": "display_data"
    },
    {
     "data": {
      "image/png": "[encoded data removed]",
      "text/plain": [
       "<Figure size 432x288 with 1 Axes>"
      ]
     },
     "metadata": {
      "needs_background": "light"
     },
     "output_type": "display_data"
    },
    {
     "data": {
      "image/png": "[encoded data removed]",
      "text/plain": [
       "<Figure size 432x288 with 1 Axes>"
      ]
     },
     "metadata": {
      "needs_background": "light"
     },
     "output_type": "display_data"
    },
    {
     "data": {
      "image/png": "[encoded data removed]",
      "text/plain": [
       "<Figure size 432x288 with 1 Axes>"
      ]
     },
     "metadata": {
      "needs_background": "light"
     },
     "output_type": "display_data"
    },
    {
     "data": {
      "text/plain": [
       "0.508"
      ]
     },
     "execution_count": 7,
     "metadata": {},
     "output_type": "execute_result"
    }
   ],
   "source": [
    "import numpy as np\n",
    "import matplotlib.pyplot as plt\n",
    "h_kid = []\n",
    "h_adult = []\n",
    "w_kid = []\n",
    "w_adult = []\n",
    "def height_selector(ph_kid, ph_adult):\n",
    "    if(ph_kid==1):\n",
    "        coin = np.random.randint(0, 2)\n",
    "        if(coin==1):\n",
    "            h = np.random.uniform(5.0, 5.25)\n",
    "        elif(coin==0):\n",
    "            h = np.random.uniform(4.5, 5)\n",
    "    elif(ph_adult==1):\n",
    "        coin = np.random.randint(0, 2)\n",
    "        if(coin==1):\n",
    "            h = np.random.uniform(5.25, 5.75)\n",
    "        elif(coin==0):\n",
    "            h = np.random.uniform(5.0, 5.25)\n",
    "    return h\n",
    "def weight_selector(ph_kid, ph_adult):\n",
    "    if(ph_kid==1):\n",
    "        w = np.random.uniform(30, 50)\n",
    "    elif(ph_adult==1):\n",
    "        w = np.random.uniform(45, 60)\n",
    "    return w\n",
    "def environment(p_kid, p_adult):\n",
    "    p = np.random.rand()\n",
    "    if(p_kid>p):\n",
    "        h = height_selector(1, 0)\n",
    "        w = weight_selector(1, 0)\n",
    "        h_kid.append(h)\n",
    "        w_kid.append(w)\n",
    "        st=0\n",
    "    else:\n",
    "        h = height_selector(0, 1)\n",
    "        w = weight_selector(0, 1)\n",
    "        h_adult.append(h)\n",
    "        w_adult.append(w)\n",
    "        st=1\n",
    "    return (h, w, st)\n",
    "def agent_random(h, w):\n",
    "    return(np.random.randint(0, 2))\n",
    "def performance_measurer(s, a):\n",
    "    performance = 0\n",
    "    i=0\n",
    "    for st in s:\n",
    "        if(a[i]==st):\n",
    "            performance=performance+1\n",
    "        i=i+1\n",
    "    return (performance/1000)\n",
    "\n",
    "t = []\n",
    "s = []\n",
    "h = []\n",
    "w = []\n",
    "a = []\n",
    "for i in range(1000):\n",
    "    t.append(i+1)\n",
    "    (ht, wt, st)=environment(0.2, 0.8)\n",
    "    s.append(st)\n",
    "    h.append(ht)\n",
    "    w.append(wt)\n",
    "    a.append(agent_random(ht, wt))\n",
    "plt.hist(h_kid, facecolor='blue')\n",
    "plt.title('heights_of_kids')\n",
    "plt.show()\n",
    "plt.hist(h_adult, facecolor='green')\n",
    "plt.title('heights_of_adults')\n",
    "plt.show()\n",
    "plt.hist(w_kid, facecolor='blue')\n",
    "plt.title('weights_of_kids')\n",
    "plt.show()\n",
    "plt.hist(w_adult, facecolor='green')\n",
    "plt.title('weights_of_adults')\n",
    "plt.show()\n",
    "performance_measurer(s, a)\n"
   ]
  },
  {
   "cell_type": "code",
   "execution_count": null,
   "metadata": {},
   "outputs": [],
   "source": []
  },
  {
   "cell_type": "code",
   "execution_count": null,
   "metadata": {},
   "outputs": [],
   "source": []
  }
 ],
 "metadata": {
  "kernelspec": {
   "display_name": "Python 3",
   "language": "python",
   "name": "python3"
  },
  "language_info": {
   "codemirror_mode": {
    "name": "ipython",
    "version": 3
   },
   "file_extension": ".py",
   "mimetype": "text/x-python",
   "name": "python",
   "nbconvert_exporter": "python",
   "pygments_lexer": "ipython3",
   "version": "3.7.4"
  }
 },
 "nbformat": 4,
 "nbformat_minor": 2
}
