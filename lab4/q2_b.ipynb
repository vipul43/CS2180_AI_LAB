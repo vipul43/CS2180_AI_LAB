{
 "cells": [
  {
   "cell_type": "code",
   "execution_count": null,
   "metadata": {},
   "outputs": [],
   "source": [
    "import numpy as np\n",
    "import matplotlib.pyplot as plt\n",
    "from math import *\n",
    "def environment_village(p_kid):\n",
    "    person=np.random.rand()\n",
    "    if(person<p_kid):\n",
    "        height=np.random.normal(u1, var1)\n",
    "        heights_giv_kid.append(height)\n",
    "        person=0\n",
    "    else:\n",
    "        height=np.random.normal(u2, var2)\n",
    "        heights_giv_adult.append(height)\n",
    "        person=1\n",
    "    return person, height\n",
    "\n",
    "def agent(p_kid, height):\n",
    "    if(p_kid*p_x_giv_(u1, var1, height)>(1-p_kid)*p_x_giv_(u2, var2, height)):\n",
    "        return 0\n",
    "    else:\n",
    "        return 1\n",
    "def p_x_giv_(u, var, x):\n",
    "    y=(1/((2*pi)**0.5)*var)*exp(-(1/2)*(((x-u)/var))**2)\n",
    "    return y\n",
    "\n",
    "p_kid=float(input())\n",
    "persons=[]\n",
    "heights_total=[]\n",
    "heights_giv_kid=[]\n",
    "heights_giv_adult=[]\n",
    "loss=0\n",
    "u1=10\n",
    "u2=20\n",
    "var1=0.19\n",
    "var2=0.19\n",
    "\n",
    "for i in range(1000):\n",
    "    person, height=environment_village(p_kid)\n",
    "    persons.append(person)\n",
    "    heights_total.append(height)\n",
    "    decision=agent(p_kid, height)\n",
    "    if(decision==person):\n",
    "        loss+=0\n",
    "    else:\n",
    "        loss+=1\n",
    "print(loss/1000)\n",
    "    \n",
    "plt.hist(persons)\n",
    "plt.title(\"kid_or_adult\")\n",
    "plt.show()\n",
    "plt.hist(heights_total)\n",
    "plt.title(\"heights\")\n",
    "plt.show()\n",
    "plt.hist(heights_giv_kid)\n",
    "plt.title(\"heights_giv_kids\")\n",
    "plt.show()\n",
    "plt.hist(heights_giv_adult)\n",
    "plt.title(\"heights_giv_adults\")\n",
    "plt.show()"
   ]
  },
  {
   "cell_type": "code",
   "execution_count": null,
   "metadata": {},
   "outputs": [],
   "source": []
  },
  {
   "cell_type": "code",
   "execution_count": null,
   "metadata": {},
   "outputs": [],
   "source": []
  }
 ],
 "metadata": {
  "kernelspec": {
   "display_name": "Python 3",
   "language": "python",
   "name": "python3"
  },
  "language_info": {
   "codemirror_mode": {
    "name": "ipython",
    "version": 3
   },
   "file_extension": ".py",
   "mimetype": "text/x-python",
   "name": "python",
   "nbconvert_exporter": "python",
   "pygments_lexer": "ipython3",
   "version": "3.7.4"
  }
 },
 "nbformat": 4,
 "nbformat_minor": 2
}
